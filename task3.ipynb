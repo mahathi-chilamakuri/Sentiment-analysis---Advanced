{
 "cells": [
  {
   "cell_type": "code",
   "execution_count": null,
   "id": "b921eda5-6cbf-4406-9c37-cc0348adc469",
   "metadata": {},
   "outputs": [],
   "source": [
    "!pip install transformers datasets torch"
   ]
  },
  {
   "cell_type": "code",
   "execution_count": null,
   "id": "16b6d94b-f6bd-4901-9569-cf5887fe75c8",
   "metadata": {},
   "outputs": [],
   "source": [
    "import torch\n",
    "from datasets import load_dataset\n",
    "from transformers import BertTokenizerFast, BertForSequenceClassification, Trainer, TrainingArguments\n",
    "import numpy as np\n",
    "from sklearn.metrics import accuracy_score, precision_recall_fscore_support\n"
   ]
  },
  {
   "cell_type": "code",
   "execution_count": null,
   "id": "1289ccb2-b549-4511-8e0f-c9296a0d72f1",
   "metadata": {},
   "outputs": [],
   "source": [
    "# Load dataset (2% of the training set)\n",
    "dataset = load_dataset('amazon_polarity', split='train[:1%]')\n",
    "\n",
    "# Split dataset into train and test (e.g., 90% train, 10% test)\n",
    "split = dataset.train_test_split(test_size=0.1)\n",
    "train_dataset = split['train']\n",
    "test_dataset = split['test']\n"
   ]
  },
  {
   "cell_type": "code",
   "execution_count": null,
   "id": "abc669f6-271c-4dd9-a1b8-4beecdb98aa5",
   "metadata": {},
   "outputs": [],
   "source": [
    "tokenizer = BertTokenizerFast.from_pretrained('bert-base-uncased')\n",
    "\n",
    "def tokenize(batch):\n",
    "    return tokenizer(batch['content'], padding='max_length', truncation=True, max_length=128)\n",
    "\n",
    "train_dataset = train_dataset.map(tokenize, batched=True, batch_size=32)\n",
    "test_dataset = test_dataset.map(tokenize, batched=True, batch_size=32)\n",
    "\n",
    "# Set formats for PyTorch\n",
    "train_dataset.set_format('torch', columns=['input_ids', 'attention_mask', 'label'])\n",
    "test_dataset.set_format('torch', columns=['input_ids', 'attention_mask', 'label'])\n"
   ]
  },
  {
   "cell_type": "code",
   "execution_count": null,
   "id": "30ea0083-8451-44ed-a017-f11a61e620fb",
   "metadata": {},
   "outputs": [],
   "source": [
    "model = BertForSequenceClassification.from_pretrained('bert-base-uncased', num_labels=2)"
   ]
  },
  {
   "cell_type": "code",
   "execution_count": null,
   "id": "ee2616ca-1879-4e15-a278-50d71363aa15",
   "metadata": {},
   "outputs": [],
   "source": [
    "def compute_metrics(pred):\n",
    "    labels = pred.label_ids\n",
    "    preds = pred.predictions.argmax(-1)\n",
    "    precision, recall, f1, _ = precision_recall_fscore_support(labels, preds, average='binary')\n",
    "    acc = accuracy_score(labels, preds)\n",
    "    return {'accuracy': acc, 'f1': f1, 'precision': precision, 'recall': recall}\n"
   ]
  },
  {
   "cell_type": "code",
   "execution_count": null,
   "id": "57ac43fc-ce2e-48f8-a625-652324731e1c",
   "metadata": {},
   "outputs": [],
   "source": [
    "training_args = TrainingArguments(\n",
    "    output_dir='./results',\n",
    "    num_train_epochs=2,\n",
    "    per_device_train_batch_size=8,\n",
    "    per_device_eval_batch_size=16,\n",
    "    eval_strategy='epoch',\n",
    "    save_strategy='epoch',\n",
    "    logging_dir='./logs',\n",
    "    logging_steps=50,\n",
    "    load_best_model_at_end=True,\n",
    "    metric_for_best_model='f1',\n",
    "    report_to=[]  # Disable all integrations including wandb\n",
    ")\n",
    "trainer = Trainer(\n",
    "    model=model,\n",
    "    args=training_args,\n",
    "    train_dataset=train_dataset,\n",
    "    eval_dataset=test_dataset,\n",
    "    compute_metrics=compute_metrics,\n",
    ")"
   ]
  },
  {
   "cell_type": "code",
   "execution_count": null,
   "id": "c2833d3d-cb34-47d9-9dd6-0bb040e3248d",
   "metadata": {},
   "outputs": [],
   "source": [
    "trainer.train()\n"
   ]
  },
  {
   "cell_type": "code",
   "execution_count": null,
   "id": "ee4ad900-f51f-4b43-8257-b8e5cb731478",
   "metadata": {},
   "outputs": [],
   "source": [
    "eval_results = trainer.evaluate(eval_dataset=test_dataset)\n",
    "print(\"Evaluation results:\", eval_results)\n"
   ]
  },
  {
   "cell_type": "code",
   "execution_count": null,
   "id": "5d07b1ca-82bb-478e-8843-1db4c429d761",
   "metadata": {},
   "outputs": [],
   "source": [
    "model.save_pretrained('./fine_tuned_bert_amazon')\n",
    "tokenizer.save_pretrained('./fine_tuned_bert_amazon')\n"
   ]
  }
 ],
 "metadata": {
  "kernelspec": {
   "display_name": "Python 3 (ipykernel)",
   "language": "python",
   "name": "python3"
  },
  "language_info": {
   "codemirror_mode": {
    "name": "ipython",
    "version": 3
   },
   "file_extension": ".py",
   "mimetype": "text/x-python",
   "name": "python",
   "nbconvert_exporter": "python",
   "pygments_lexer": "ipython3",
   "version": "3.14.0"
  }
 },
 "nbformat": 4,
 "nbformat_minor": 5
}
